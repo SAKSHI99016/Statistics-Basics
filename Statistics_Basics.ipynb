{
  "nbformat": 4,
  "nbformat_minor": 0,
  "metadata": {
    "colab": {
      "provenance": []
    },
    "kernelspec": {
      "name": "python3",
      "display_name": "Python 3"
    },
    "language_info": {
      "name": "python"
    }
  },
  "cells": [
    {
      "cell_type": "code",
      "execution_count": null,
      "metadata": {
        "id": "5X85R1QyKSeX"
      },
      "outputs": [],
      "source": [
        "Q.1) What is statistics, and why is it important?"
      ]
    },
    {
      "cell_type": "markdown",
      "source": [
        "==)) Statistics is the science of collecting, organizing, analyzing, interpreting, and presenting data.\n",
        "\n",
        "Importance of Statistics:\n",
        "\n",
        "1. Informed Decision Making= statistics empowers individuals and organizations to make data-driven decisions, leading to more effective outcomes in various fields.\n",
        "\n",
        "2. Understanding Trends and Patterns= statistical analysis helps identify trends, patterns, and relationships within data, providing insights into complex phenomena.\n",
        "\n",
        "3. Predicting Future Outcomes= by analyzing historical data, statistics can be used to forecast future trends and make predictions about various events.\n",
        "\n",
        "4. Assessing Risks= statistics plays a crucial role in risk assessment, helping to identify potential risks and develop strategies to mitigate them."
      ],
      "metadata": {
        "id": "bQKXy4JaPayk"
      }
    },
    {
      "cell_type": "code",
      "source": [
        "Q.2) What are the two main types of statistics?"
      ],
      "metadata": {
        "id": "E9JQLRa3Kaci"
      },
      "execution_count": null,
      "outputs": []
    },
    {
      "cell_type": "markdown",
      "source": [
        "==))  The two major areas of statistics are descriptive statistics and inferential statistics.\n",
        "\n",
        " Descriptive statistics describes the properties of sample and population data.\n",
        "\n",
        " Inferential statistics uses those properties to test hypotheses and draw conclusions."
      ],
      "metadata": {
        "id": "eYlgyJaqQA9z"
      }
    },
    {
      "cell_type": "code",
      "source": [
        "Q.3) What are descriptive statistics?"
      ],
      "metadata": {
        "id": "18V_m-zhKaZy"
      },
      "execution_count": null,
      "outputs": []
    },
    {
      "cell_type": "markdown",
      "source": [
        "==)) The term descriptive statistics refers to the act of describing and summarising data. This can be done using tables, plots, charts and key descriptive values such as the size of the dataset, percentages, average values and measures of spread."
      ],
      "metadata": {
        "id": "eKZ2RsBTQXUZ"
      }
    },
    {
      "cell_type": "code",
      "source": [
        "Q.4) What is inferential statistics?"
      ],
      "metadata": {
        "id": "_Z0NSv-8KaW8"
      },
      "execution_count": null,
      "outputs": []
    },
    {
      "cell_type": "markdown",
      "source": [
        "==)) Inferential statistics is a branch of statistics that uses sample data to draw conclusions and make predictions about a larger population."
      ],
      "metadata": {
        "id": "lz8xInNSQgPj"
      }
    },
    {
      "cell_type": "code",
      "source": [
        "Q.5) What is sampling in statistics?"
      ],
      "metadata": {
        "id": "AYiJVDrrKaTI"
      },
      "execution_count": null,
      "outputs": []
    },
    {
      "cell_type": "markdown",
      "source": [
        "==)) In statistics, sampling refers to the process of selecting a subset of individuals or data points from a larger population to study and make inferences about the entire population."
      ],
      "metadata": {
        "id": "afNW1ywmQp9_"
      }
    },
    {
      "cell_type": "code",
      "source": [
        "Q.6) What are the different types of sampling methods?"
      ],
      "metadata": {
        "id": "znco5L4bKaQL"
      },
      "execution_count": null,
      "outputs": []
    },
    {
      "cell_type": "markdown",
      "source": [
        "==)) Sampling methods can be broadly categorized into probability (or random) sampling and non-probability (or non-random) sampling.\n",
        "\n",
        "Probability Sampling Methods: simple random sampling, cluster sampling, systematic sampling, etc.\n",
        "\n",
        "Non-Probability Sampling Methods: convenience sampling, quota sampling, etc."
      ],
      "metadata": {
        "id": "e6nCajSxQyO-"
      }
    },
    {
      "cell_type": "code",
      "source": [
        "Q.7) What is the difference between random and non-random sampling?"
      ],
      "metadata": {
        "id": "v7OHFZrMKaMr"
      },
      "execution_count": null,
      "outputs": []
    },
    {
      "cell_type": "markdown",
      "source": [
        "==)) Random sampling and non-random sampling differ primarily in how samples are selected from a population.\n",
        "\n",
        " Random sampling ensures each member has an equal chance of selection, minimizing bias, while non-random sampling relies on specific criteria, potentially introducing bias."
      ],
      "metadata": {
        "id": "ir_advGhRhLi"
      }
    },
    {
      "cell_type": "code",
      "source": [
        "Q.8) Define and give examples of qualitative and quantitative data."
      ],
      "metadata": {
        "id": "MhekAry1KaJo"
      },
      "execution_count": null,
      "outputs": []
    },
    {
      "cell_type": "markdown",
      "source": [
        "==)) **Quantitative data is anything that can be counted or measured; it refers to numerical data.\n",
        "\n",
        "Examples of quantitative data:-- a..  My best friend is 5 feet and 7 inches tall;\n",
        "\n",
        "b..  They have size 6 feet;\n",
        "\n",
        "c..  They weigh 63 kilograms;\n",
        "\n",
        "d..  My best friend has one older sibling and two younger siblings;\n",
        "\n",
        "e..  They have two cats, etc.\n",
        "\n",
        "\n",
        "**Qualitative data is descriptive, referring to things that can be observed but not measured—such as colors or emotions.\n",
        "\n",
        "Examples of qualitative statistics:-  a..   My best friend has curly brown hair\n",
        "\n",
        "b..   They have green eyes\n",
        "\n",
        "c..  My best friend is funny, loud, and a good listener\n",
        "\n",
        "d..   They can also be quite impatient and impulsive at times\n",
        "\n",
        "e..   My best friend drives a red car,etc.\n",
        "\n",
        ""
      ],
      "metadata": {
        "id": "YYDhfohwRu4I"
      }
    },
    {
      "cell_type": "code",
      "source": [
        "Q.9) What are the different types of data in statistics?"
      ],
      "metadata": {
        "id": "hvPmU2zUKaGp"
      },
      "execution_count": null,
      "outputs": []
    },
    {
      "cell_type": "markdown",
      "source": [
        "==)) Data can be broadly classified into qualitative (categorical) and quantitative (numerical) types.\n",
        "\n",
        "Qualitative data describes characteristics or attributes, while quantitative data represents numerical values. Each of these can be further divided into sub-categories."
      ],
      "metadata": {
        "id": "Nos1We3UTOFu"
      }
    },
    {
      "cell_type": "code",
      "source": [
        "Q.10) Explain nominal, ordinal, interval and ratio levels of measurement."
      ],
      "metadata": {
        "id": "j15cMCS5KaDY"
      },
      "execution_count": null,
      "outputs": []
    },
    {
      "cell_type": "markdown",
      "source": [
        "==)) The four levels of measurement, from least to most precise, are nominal, ordinal, interval, and ratio.\n",
        "\n",
        " Nominal data are categories with no inherent order (e.g., colors, types of fruit).\n",
        "\n",
        " Ordinal data can be ordered or ranked, but the intervals between values aren't necessarily equal (e.g., rankings in a race, customer satisfaction ratings).\n",
        "\n",
        " Interval data have ordered values with equal intervals, but no true zero point (e.g., temperature in Celsius or Fahrenheit).\n",
        "\n",
        " Ratio data have all the characteristics of interval data plus a true zero point, allowing for meaningful ratios (e.g., height, weight, age)."
      ],
      "metadata": {
        "id": "_B7jTLpATmLQ"
      }
    },
    {
      "cell_type": "code",
      "source": [
        "Q.11) What is the measure of central tendency?"
      ],
      "metadata": {
        "id": "qWyNNXLaKaAf"
      },
      "execution_count": null,
      "outputs": []
    },
    {
      "cell_type": "markdown",
      "source": [
        "==)) The central tendency measure is defined as the number used to represent the center or middle of a set of data values."
      ],
      "metadata": {
        "id": "i2YYkp58T-Ey"
      }
    },
    {
      "cell_type": "code",
      "source": [
        "Q.12) Define mean, median and mode."
      ],
      "metadata": {
        "id": "1dl9-W2mKZ89"
      },
      "execution_count": null,
      "outputs": []
    },
    {
      "cell_type": "markdown",
      "source": [
        "==)) Mean, median, and mode are all measures of central tendency, used to describe the \"average\" or typical value within a dataset.\n",
        "\n",
        "**Mean:-\n",
        "\n",
        "Definition:- The sum of all values divided by the number of values.\n",
        "\n",
        "Calculation:- Add all numbers in the dataset and divide by the total count of numbers.\n",
        "\n",
        "Example:- For the data set {2, 4, 6, 8}, the mean is (2+4+6+8)/4 = 20/4 = 5.\n",
        "\n",
        "\n",
        "**Median:-\n",
        "\n",
        "Definition:- The middle value in a sorted dataset.\n",
        "\n",
        "Calculation:-\n",
        "Order the data from least to greatest.\n",
        "\n",
        "If there's an odd number of values, the median is the middle value.\n",
        "\n",
        "If there's an even number of values, the median is the average of the two middle values.\n",
        "\n",
        "Example:- For the data set {2, 4, 6, 8, 10}, the median is 6. For the data set {2, 4, 6, 8}, the median is (4+6)/2 = 5.\n",
        "\n",
        "\n",
        "**Mode:-\n",
        "\n",
        "Definition:- The value that appears most often in a dataset.\n",
        "\n",
        "Calculation:- Count how many times each value appears and identify the value with the highest count.\n",
        "\n",
        "Example:- For the data set {2, 4, 4, 6, 8}, the mode is 4."
      ],
      "metadata": {
        "id": "FY5eV_K9UGiX"
      }
    },
    {
      "cell_type": "code",
      "source": [
        "Q.13) What is the significance of the measure of central tendency?"
      ],
      "metadata": {
        "id": "YcNmQ3tcKZ5v"
      },
      "execution_count": null,
      "outputs": []
    },
    {
      "cell_type": "markdown",
      "source": [
        "==)) There are some significances of measures of central tendency:-\n",
        "\n",
        "1. Summarization and Representation:\n",
        "Measures of central tendency condense a dataset into a single, representative value.\n",
        "This makes it easier to grasp the overall pattern and distribution of the data.\n",
        "\n",
        "2. Data Comparison:\n",
        "These measures allow for comparing different datasets.\n",
        "You can compare the central tendencies of two different groups to see how their typical values differ. For instance, comparing the average test scores of two classes.\n",
        "\n",
        "3. Identifying Typical Values:\n",
        "Central tendency measures pinpoint the most representative value within a dataset.\n",
        "This helps in understanding what is \"typical\" for a given set of data.\n",
        "\n",
        "4. Guiding Decision-Making:\n",
        "Measures of central tendency are essential for various applications, including policy-making, business planning, and research. Etc."
      ],
      "metadata": {
        "id": "5N8BQSw4U57L"
      }
    },
    {
      "cell_type": "code",
      "source": [
        "Q.14) What is variance, and how is it calculated?"
      ],
      "metadata": {
        "id": "tKeHXXZUKZ3B"
      },
      "execution_count": null,
      "outputs": []
    },
    {
      "cell_type": "markdown",
      "source": [
        "==)) Variance is a statistical measure that quantifies the amount of variation or dispersion in a set of data points.\n",
        "\n",
        "**Calculation:\n",
        "\n",
        "Calculate the mean: Sum all the data points and divide by the total number of points.\n",
        "\n",
        "Find the difference from the mean: Subtract the mean from each individual data point.\n",
        "\n",
        "Square the differences: Square each of the differences calculated in the previous step.\n",
        "\n",
        "Calculate the average of the squared differences: Sum all the squared differences and divide by either:\n",
        "\n",
        "N: (the total number of data points) for population variance.\n",
        "\n",
        "N-1: (one less than the total number of data points) for sample variance.\n",
        "\n",
        "\n",
        "**Formula:  Population Variance (σ²):\n",
        "σ² = Σ (xi - μ)² / N, where:\n",
        "σ² represents the population variance.\n",
        "xi represents each individual data point.\n",
        "μ represents the population mean.\n",
        "N represents the total number of data points in the population.\n",
        "\n",
        "\n",
        "Sample Variance (s²):\n",
        "s² = Σ (xi - x̄)² / (n-1), where:\n",
        "s² represents the sample variance.\n",
        "xi represents each individual data point.\n",
        "x̄ represents the sample mean.\n",
        "n represents the total number of data points in the sample."
      ],
      "metadata": {
        "id": "Qjpl4AlcVl2u"
      }
    },
    {
      "cell_type": "code",
      "source": [
        "Q.15) What is standard deviation, and why is it important?"
      ],
      "metadata": {
        "id": "H1g67lmTKZzx"
      },
      "execution_count": null,
      "outputs": []
    },
    {
      "cell_type": "markdown",
      "source": [
        "==)) Standard deviation is a statistic measuring the dispersion of a dataset relative to its mean.\n",
        "\n",
        "Standard deviation is crucial for understanding data variability, risk assessment, and quality control. It measures how spread out data points are from the average, providing insights into the consistency and reliability of a dataset. In finance, it helps gauge investment volatility, while in manufacturing, it ensures product consistency. Statistical analysis relies on it for hypothesis validation and data accuracy."
      ],
      "metadata": {
        "id": "v0J3ZFdhWN0B"
      }
    },
    {
      "cell_type": "code",
      "source": [
        "Q.16) Define and explain the term range in statistics?"
      ],
      "metadata": {
        "id": "dAa-Jl4aKZwR"
      },
      "execution_count": null,
      "outputs": []
    },
    {
      "cell_type": "markdown",
      "source": [
        "==)) In statistics, the range is a simple measure of dispersion that represents the difference between the highest and lowest values in a dataset. It indicates the spread or variability of the data. A larger range suggests greater variability, while a smaller range indicates data points are clustered closer together."
      ],
      "metadata": {
        "id": "H63rM9XvWjCK"
      }
    },
    {
      "cell_type": "code",
      "source": [
        "Q.17) What is the difference between variance ansd standard deviation?"
      ],
      "metadata": {
        "id": "8oWpDlgyKZtv"
      },
      "execution_count": null,
      "outputs": []
    },
    {
      "cell_type": "markdown",
      "source": [
        "==)) Variance is the average squared deviations from the mean, while standard deviation is the square root of this number.\n",
        "\n",
        " Both measures reflect variability in a distribution, but their units differ: Standard deviation is expressed in the same units as the original values (e.g., minutes or meters)."
      ],
      "metadata": {
        "id": "VczNQiZ6XC9E"
      }
    },
    {
      "cell_type": "code",
      "source": [
        "Q.18) What is skewness in a dataset?"
      ],
      "metadata": {
        "id": "obt_r52jKZqt"
      },
      "execution_count": null,
      "outputs": []
    },
    {
      "cell_type": "markdown",
      "source": [
        "==)) Data skewness is a measure of the asymmetry of a probability distribution of a random variable about its mean."
      ],
      "metadata": {
        "id": "i0hlflDhXM70"
      }
    },
    {
      "cell_type": "code",
      "source": [
        "Q.19) What does if mean if a dataset is positively and negatively skewed?"
      ],
      "metadata": {
        "id": "lTUmYITWKZnZ"
      },
      "execution_count": null,
      "outputs": []
    },
    {
      "cell_type": "markdown",
      "source": [
        "==)) In statistics, skewness describes the asymmetry of a data distribution.\n",
        "\n",
        " A positively skewed distribution has a longer tail on the right side, meaning most values are clustered on the left with a few high outliers.\n",
        "\n",
        "  Conversely, a negatively skewed distribution has a longer tail on the left, with most values clustered on the right and some low outliers."
      ],
      "metadata": {
        "id": "UDZow7csXYmI"
      }
    },
    {
      "cell_type": "code",
      "source": [
        "Q.20) Define and explain kurtosis?"
      ],
      "metadata": {
        "id": "0HLELh2sKZkX"
      },
      "execution_count": null,
      "outputs": []
    },
    {
      "cell_type": "markdown",
      "source": [
        "==)) Kurtosis is a statistical measure used to describe a characteristic of a dataset. It generally takes the form of a bell when normally distributed data is plotted on a graph. This is called the bell curve."
      ],
      "metadata": {
        "id": "ii6EbGLVXkO8"
      }
    },
    {
      "cell_type": "code",
      "source": [
        "Q.21) What is the purpose of covariance?"
      ],
      "metadata": {
        "id": "rzVQwTjsKZhJ"
      },
      "execution_count": null,
      "outputs": []
    },
    {
      "cell_type": "markdown",
      "source": [
        "==)) Covariance are terms that refer to the ability to use a more derived type (more specific) or a less derived type (less specific) than originally specified. Generic type parameters support covariance to provide greater flexibility in assigning and using generic types."
      ],
      "metadata": {
        "id": "ea-0G6ucXuny"
      }
    },
    {
      "cell_type": "code",
      "source": [
        "Q.22) What does correaltion measure in statistics?"
      ],
      "metadata": {
        "id": "GznOhqw6KZbd"
      },
      "execution_count": null,
      "outputs": []
    },
    {
      "cell_type": "markdown",
      "source": [
        "==)) In statistics, correlation measures the strength and direction of the linear relationship between two variables. It indicates how closely the values of one variable change in relation to the values of another variable."
      ],
      "metadata": {
        "id": "IxhGQ71MYH2q"
      }
    },
    {
      "cell_type": "code",
      "source": [
        "Q.23) What is the difference between covariance and correlation?"
      ],
      "metadata": {
        "id": "xg3Ooh1AKZYl"
      },
      "execution_count": null,
      "outputs": []
    },
    {
      "cell_type": "markdown",
      "source": [
        "==)) Both covariance and correlation measure the relationship between two variables.\n",
        "\n",
        " Covariance measures how variables depend on one another and how a change in one variable may lead to another.\n",
        "\n",
        "  Correlation shows how they relate and how one variable may impact the other."
      ],
      "metadata": {
        "id": "4QyY26m7YdNY"
      }
    },
    {
      "cell_type": "code",
      "source": [
        "Q.24) What are some real-world applications of statistics?"
      ],
      "metadata": {
        "id": "xPRNzMWaK-fy"
      },
      "execution_count": null,
      "outputs": []
    },
    {
      "cell_type": "markdown",
      "source": [
        "==)) Banks use statistics to lower risk in lending operations, analyze activity in the financial market, and predict the impact of economic crises.\n",
        "\n",
        " Investors also use stats to understand the risk and potential of certain stocks, which helps them make informed investing decisions."
      ],
      "metadata": {
        "id": "lQChbldbYpJR"
      }
    },
    {
      "cell_type": "code",
      "source": [
        "****PRACTICAL QUESTIONS****..........."
      ],
      "metadata": {
        "id": "dnkMvoNSZD0u"
      },
      "execution_count": null,
      "outputs": []
    },
    {
      "cell_type": "code",
      "source": [
        "Q.1) How do you calculate the mean, median, and mode of a dataset?"
      ],
      "metadata": {
        "id": "buaOmaMdZGOf"
      },
      "execution_count": null,
      "outputs": []
    },
    {
      "cell_type": "code",
      "source": [
        "In Python (using statistics module):\n",
        "\n",
        "data = [4, 8, 6, 5, 3]\n",
        "\n",
        "mean = statistics.mean(data)\n",
        "median = statistics.median(data)\n",
        "mode = statistics.mode(data)\n",
        "\n",
        "print(\"Mean:\", mean)\n",
        "print(\"Median:\", median)\n",
        "print(\"Mode:\", mode)"
      ],
      "metadata": {
        "colab": {
          "base_uri": "https://localhost:8080/"
        },
        "id": "RZgQ0Lszwd50",
        "outputId": "dfd9483c-be35-4248-ddf4-83a1add8b6dd"
      },
      "execution_count": 1,
      "outputs": [
        {
          "output_type": "stream",
          "name": "stdout",
          "text": [
            "Mean: 5.2\n",
            "Median: 5\n",
            "Mode: 4\n"
          ]
        }
      ]
    },
    {
      "cell_type": "code",
      "source": [
        "Q.2) Write a Python program to compute the variance and standard deviation of a dataset."
      ],
      "metadata": {
        "id": "CwufPCwnZGLn"
      },
      "execution_count": null,
      "outputs": []
    },
    {
      "cell_type": "code",
      "source": [
        "Here's a Python program that computes both the variance and standard deviation of a dataset:\n",
        "\n",
        "\n",
        "\n",
        "# Sample dataset\n",
        "data = [10, 12, 23, 23, 16, 23, 21, 16]\n",
        "\n",
        "# Calculate variance and standard deviation\n",
        "variance = statistics.variance(data)\n",
        "std_deviation = statistics.stdev(data)\n",
        "\n",
        "print(\"Data:\", data)\n",
        "print(\"Variance:\", variance)\n",
        "print(\"Standard Deviation:\", std_deviation)"
      ],
      "metadata": {
        "colab": {
          "base_uri": "https://localhost:8080/"
        },
        "id": "j4XPc76Lw7bm",
        "outputId": "2e40f800-1c27-48f6-afb3-a26746e252c2"
      },
      "execution_count": 2,
      "outputs": [
        {
          "output_type": "stream",
          "name": "stdout",
          "text": [
            "Data: [10, 12, 23, 23, 16, 23, 21, 16]\n",
            "Variance: 27.428571428571427\n",
            "Standard Deviation: 5.237229365663818\n"
          ]
        }
      ]
    },
    {
      "cell_type": "code",
      "source": [
        "Q.3) Create a dataset and classify it into nominal, ordinal, interval, and ratio types."
      ],
      "metadata": {
        "id": "KryfTRW2ZF_y"
      },
      "execution_count": null,
      "outputs": []
    },
    {
      "cell_type": "code",
      "source": [
        "import pandas as pd\n",
        "from pandas.api.types import CategoricalDtype\n",
        "\n",
        "# Create a dictionary with different data types\n",
        "data = {\n",
        "    'Nominal': ['Red', 'Blue', 'Green', 'Red', 'Blue'],\n",
        "    'Ordinal': ['Small', 'Medium', 'Large', 'Medium', 'Small'],\n",
        "    'Interval': [20, 30, 40, 25, 35],  # e.g., Temperature in Celsius\n",
        "    'Ratio': [150, 160, 170, 155, 165]  # e.g., Height in cm\n",
        "}\n",
        "\n",
        "# Create a pandas DataFrame\n",
        "df = pd.DataFrame(data)\n",
        "\n",
        "# Define and apply an ordered categorical type for Ordinal\n",
        "size_order = CategoricalDtype(categories=['Small', 'Medium', 'Large'], ordered=True)\n",
        "df['Ordinal'] = df['Ordinal'].astype(size_order)\n",
        "\n",
        "# Display the DataFrame\n",
        "print(\"Dataset with different measurement levels:\")\n",
        "print(df)\n",
        "\n",
        "# Classification explanation\n",
        "print(\"\\nClassification of data types:\")\n",
        "print(\"- Nominal: Categories without inherent order (e.g., Colors)\")\n",
        "print(\"- Ordinal: Categories with a specific order (e.g., Sizes)\")\n",
        "print(\"- Interval: Ordered data with equal intervals, but no true zero (e.g., Temperature)\")\n",
        "print(\"- Ratio: Ordered data with equal intervals and a true zero (e.g., Height)\")"
      ],
      "metadata": {
        "colab": {
          "base_uri": "https://localhost:8080/"
        },
        "id": "dfVOlEdNyPrl",
        "outputId": "c5b40b79-5536-401e-980b-215d69ea1a3c"
      },
      "execution_count": 6,
      "outputs": [
        {
          "output_type": "stream",
          "name": "stdout",
          "text": [
            "Dataset with different measurement levels:\n",
            "  Nominal Ordinal  Interval  Ratio\n",
            "0     Red   Small        20    150\n",
            "1    Blue  Medium        30    160\n",
            "2   Green   Large        40    170\n",
            "3     Red  Medium        25    155\n",
            "4    Blue   Small        35    165\n",
            "\n",
            "Classification of data types:\n",
            "- Nominal: Categories without inherent order (e.g., Colors)\n",
            "- Ordinal: Categories with a specific order (e.g., Sizes)\n",
            "- Interval: Ordered data with equal intervals, but no true zero (e.g., Temperature)\n",
            "- Ratio: Ordered data with equal intervals and a true zero (e.g., Height)\n"
          ]
        }
      ]
    },
    {
      "cell_type": "code",
      "source": [
        "Q.4) Implement sampling techniques like random sampling and stratified sampling."
      ],
      "metadata": {
        "id": "CsptOyYMZF9D"
      },
      "execution_count": null,
      "outputs": []
    },
    {
      "cell_type": "code",
      "source": [
        "**Sample Dataset\n",
        "\n",
        "# Sample dataset\n",
        "data = {\n",
        "    'Name': ['Alice', 'Bob', 'Charlie', 'David', 'Eva', 'Frank', 'Grace', 'Hannah', 'Ian', 'Jane'],\n",
        "    'Gender': ['F', 'M', 'M', 'M', 'F', 'M', 'F', 'F', 'M', 'F'],\n",
        "    'Score': [85, 90, 78, 88, 95, 70, 60, 75, 82, 65]\n",
        "}\n",
        "\n",
        "df = pd.DataFrame(data)\n",
        "print(\"Original Dataset:\")\n",
        "print(df)"
      ],
      "metadata": {
        "colab": {
          "base_uri": "https://localhost:8080/"
        },
        "id": "opKK7DZpyyEh",
        "outputId": "5204d743-2e2c-4115-9c70-a32ab7915760"
      },
      "execution_count": 8,
      "outputs": [
        {
          "output_type": "stream",
          "name": "stdout",
          "text": [
            "Original Dataset:\n",
            "      Name Gender  Score\n",
            "0    Alice      F     85\n",
            "1      Bob      M     90\n",
            "2  Charlie      M     78\n",
            "3    David      M     88\n",
            "4      Eva      F     95\n",
            "5    Frank      M     70\n",
            "6    Grace      F     60\n",
            "7   Hannah      F     75\n",
            "8      Ian      M     82\n",
            "9     Jane      F     65\n"
          ]
        }
      ]
    },
    {
      "cell_type": "code",
      "source": [
        "1. Simple Random Sampling\n",
        "\n",
        "# Randomly sample 5 rows\n",
        "random_sample = df.sample(n=5, random_state=42)  # random_state ensures reproducibility\n",
        "\n",
        "print(\"\\nRandom Sample (5 rows):\")\n",
        "print(random_sample)"
      ],
      "metadata": {
        "colab": {
          "base_uri": "https://localhost:8080/"
        },
        "id": "w5Fn3D4Zyo3P",
        "outputId": "a5038aff-04ee-4d52-f08c-c98e3ef82508"
      },
      "execution_count": 9,
      "outputs": [
        {
          "output_type": "stream",
          "name": "stdout",
          "text": [
            "\n",
            "Random Sample (5 rows):\n",
            "     Name Gender  Score\n",
            "8     Ian      M     82\n",
            "1     Bob      M     90\n",
            "5   Frank      M     70\n",
            "0   Alice      F     85\n",
            "7  Hannah      F     75\n"
          ]
        }
      ]
    },
    {
      "cell_type": "code",
      "source": [
        "2. Stratified Sampling\n",
        "\n",
        "from sklearn.model_selection import train_test_split\n",
        "\n",
        "# Stratified sampling based on 'Gender'\n",
        "stratified_sample, _ = train_test_split(df, test_size=0.5, stratify=df['Gender'], random_state=42)\n",
        "\n",
        "print(\"\\nStratified Sample (based on Gender):\")\n",
        "print(stratified_sample)"
      ],
      "metadata": {
        "colab": {
          "base_uri": "https://localhost:8080/"
        },
        "id": "S3PTfadFy3ng",
        "outputId": "8a6873ff-1099-4b66-99cb-b03dfea52310"
      },
      "execution_count": 10,
      "outputs": [
        {
          "output_type": "stream",
          "name": "stdout",
          "text": [
            "\n",
            "Stratified Sample (based on Gender):\n",
            "      Name Gender  Score\n",
            "9     Jane      F     65\n",
            "4      Eva      F     95\n",
            "2  Charlie      M     78\n",
            "3    David      M     88\n",
            "5    Frank      M     70\n"
          ]
        }
      ]
    },
    {
      "cell_type": "code",
      "source": [
        "Q.5) Write a Python function to calculate the range of a dataset."
      ],
      "metadata": {
        "id": "rZJbubkPZF6G"
      },
      "execution_count": null,
      "outputs": []
    },
    {
      "cell_type": "code",
      "source": [
        "✅ Python Function to Calculate Range:\n",
        "\n",
        "def calculate_range(data):\n",
        "    if not data:\n",
        "        return None  # Handle empty dataset\n",
        "    return max(data) - min(data)\n",
        "\n",
        "# Example usage\n",
        "dataset = [10, 25, 30, 45, 60, 5]\n",
        "data_range = calculate_range(dataset)\n",
        "\n",
        "print(\"Dataset:\", dataset)\n",
        "print(\"Range:\", data_range)"
      ],
      "metadata": {
        "colab": {
          "base_uri": "https://localhost:8080/"
        },
        "id": "OQaZZVqdzSnC",
        "outputId": "4bddf018-6ebc-4d9a-de4b-49d75f3794d7"
      },
      "execution_count": 11,
      "outputs": [
        {
          "output_type": "stream",
          "name": "stdout",
          "text": [
            "Dataset: [10, 25, 30, 45, 60, 5]\n",
            "Range: 55\n"
          ]
        }
      ]
    },
    {
      "cell_type": "code",
      "source": [
        "Q.6) Create a dataset and plot its histogram to visualize skewness."
      ],
      "metadata": {
        "id": "00gxkDXmZF2_"
      },
      "execution_count": null,
      "outputs": []
    },
    {
      "cell_type": "code",
      "source": [
        "✅ Step-by-step Example: Plotting Histogram to Visualize Skewness\n",
        "\n",
        "\n",
        "# Create a right-skewed dataset (e.g., income distribution)\n",
        "np.random.seed(42)\n",
        "data = np.random.exponential(scale=2, size=1000)  # Right-skewed distribution\n",
        "\n",
        "# Convert to a DataFrame\n",
        "df = pd.DataFrame(data, columns=['Value'])\n",
        "\n",
        "# Calculate skewness\n",
        "data_skewness = skew(df['Value'])\n",
        "\n",
        "# Plot histogram\n",
        "plt.figure(figsize=(8, 5))\n",
        "sns.histplot(df['Value'], bins=30, kde=True, color='skyblue', edgecolor='black')\n",
        "plt.title(f'Histogram of Dataset (Skewness = {data_skewness:.2f})')\n",
        "plt.xlabel('Value')\n",
        "plt.ylabel('Frequency')\n",
        "plt.grid(True)\n",
        "plt.show()"
      ],
      "metadata": {
        "colab": {
          "base_uri": "https://localhost:8080/",
          "height": 487
        },
        "id": "taIirEiCzjWp",
        "outputId": "9f069dd7-18a4-47cc-a63b-c27c9f5476ad"
      },
      "execution_count": 12,
      "outputs": [
        {
          "output_type": "display_data",
          "data": {
            "text/plain": [
              "<Figure size 800x500 with 1 Axes>"
            ],
            "image/png": "[encoded data removed]"
          },
          "metadata": {}
        }
      ]
    },
    {
      "cell_type": "code",
      "source": [
        "Q.7) Calculate skewness and kurtosis of a dataset using Python libraries."
      ],
      "metadata": {
        "id": "5iwlFghmZF0G"
      },
      "execution_count": null,
      "outputs": []
    },
    {
      "cell_type": "code",
      "source": [
        "✅ 1. Using scipy.stats\n",
        "\n",
        "# Sample dataset\n",
        "data = [12, 15, 12, 18, 19, 21, 26, 18, 29, 35]\n",
        "\n",
        "# Calculate skewness and kurtosis\n",
        "data_skewness = skew(data)\n",
        "data_kurtosis = kurtosis(data)  # Default: Fisher's definition (normal = 0)\n",
        "\n",
        "print(\"Skewness:\", data_skewness)\n",
        "print(\"Kurtosis:\", data_kurtosis)"
      ],
      "metadata": {
        "colab": {
          "base_uri": "https://localhost:8080/"
        },
        "id": "hhanhTNAz6le",
        "outputId": "18e3dd29-3a72-4e44-d949-ad17a1d46764"
      },
      "execution_count": 13,
      "outputs": [
        {
          "output_type": "stream",
          "name": "stdout",
          "text": [
            "Skewness: 0.6737629763425417\n",
            "Kurtosis: -0.5533823420212372\n"
          ]
        }
      ]
    },
    {
      "cell_type": "code",
      "source": [
        "✅ 2. Using pandas and NumPy:\n",
        "\n",
        "import pandas as pd\n",
        "import numpy as np\n",
        "\n",
        "# Convert data to pandas Series\n",
        "series = pd.Series(data)\n",
        "\n",
        "# Calculate skewness and kurtosis\n",
        "print(\"Skewness:\", series.skew())\n",
        "print(\"Kurtosis:\", series.kurt())  # Also Fisher's definition (normal = 0)\n"
      ],
      "metadata": {
        "colab": {
          "base_uri": "https://localhost:8080/"
        },
        "id": "EYSc_y3Gz-Sy",
        "outputId": "a5b4895b-918d-4674-82a9-6baa4101d106"
      },
      "execution_count": 14,
      "outputs": [
        {
          "output_type": "stream",
          "name": "stdout",
          "text": [
            "Skewness: 0.7989846031262158\n",
            "Kurtosis: -0.014015211787544501\n"
          ]
        }
      ]
    },
    {
      "cell_type": "code",
      "source": [
        "Q.8) Generate a dataset and demonstrate positive and negative skewness."
      ],
      "metadata": {
        "id": "2iEQwuAgZFxC"
      },
      "execution_count": null,
      "outputs": []
    },
    {
      "cell_type": "code",
      "source": [
        "✅ Full Python Example\n",
        "\n",
        "\n",
        "# Set random seed for reproducibility\n",
        "np.random.seed(42)\n",
        "\n",
        "# Generate positively skewed data (right skewed) — e.g., Exponential distribution\n",
        "positive_skew = np.random.exponential(scale=2.0, size=1000)\n",
        "\n",
        "# Generate negatively skewed data (left skewed) — inverse of exponential + shift\n",
        "negative_skew = -np.random.exponential(scale=2.0, size=1000) + 10\n",
        "\n",
        "# Create DataFrames\n",
        "df_pos = pd.DataFrame({'Value': positive_skew})\n",
        "df_neg = pd.DataFrame({'Value': negative_skew})\n",
        "\n",
        "# Calculate skewness\n",
        "pos_skewness = skew(df_pos['Value'])\n",
        "neg_skewness = skew(df_neg['Value'])\n",
        "\n",
        "# Plotting both histograms\n",
        "plt.figure(figsize=(14, 5))\n",
        "\n",
        "# Positive skew\n",
        "plt.subplot(1, 2, 1)\n",
        "sns.histplot(df_pos['Value'], bins=30, kde=True, color='skyblue')\n",
        "plt.title(f'Positive Skewness (Right-Tailed)\\nSkewness = {pos_skewness:.2f}')\n",
        "plt.xlabel('Value')\n",
        "plt.ylabel('Frequency')\n",
        "\n",
        "# Negative skew\n",
        "plt.subplot(1, 2, 2)\n",
        "sns.histplot(df_neg['Value'], bins=30, kde=True, color='salmon')\n",
        "plt.title(f'Negative Skewness (Left-Tailed)\\nSkewness = {neg_skewness:.2f}')\n",
        "plt.xlabel('Value')\n",
        "plt.ylabel('Frequency')\n",
        "\n",
        "plt.tight_layout()\n",
        "plt.show()"
      ],
      "metadata": {
        "colab": {
          "base_uri": "https://localhost:8080/",
          "height": 454
        },
        "id": "NQTFxNoh0R9L",
        "outputId": "97c99d4a-424a-4f5c-f3c0-d8333d45b3df"
      },
      "execution_count": 15,
      "outputs": [
        {
          "output_type": "display_data",
          "data": {
            "text/plain": [
              "<Figure size 1400x500 with 2 Axes>"
            ],
            "image/png": "[encoded data removed]"
          },
          "metadata": {}
        }
      ]
    },
    {
      "cell_type": "code",
      "source": [
        "Q.9) Write a Python script to calculate covariance between two datasets."
      ],
      "metadata": {
        "id": "kPCxcNIyZFuH"
      },
      "execution_count": null,
      "outputs": []
    },
    {
      "cell_type": "markdown",
      "source": [
        "✅ What is Covariance?\n",
        "Covariance measures how two variables change together:\n",
        "\n",
        "Positive covariance: variables increase together.\n",
        "\n",
        "Negative covariance: one increases while the other decreases.\n",
        "\n"
      ],
      "metadata": {
        "id": "tc5grBbp0gGu"
      }
    },
    {
      "cell_type": "code",
      "source": [
        "✅ Python Script to Calculate Covariance\n",
        "\n",
        "\n",
        "# Sample datasets\n",
        "x = [2, 4, 6, 8, 10]\n",
        "y = [1, 3, 2, 5, 7]\n",
        "\n",
        "# --- Method 1: Manual Calculation ---\n",
        "def calculate_covariance(x, y):\n",
        "    n = len(x)\n",
        "    mean_x = sum(x) / n\n",
        "    mean_y = sum(y) / n\n",
        "    cov = sum((x[i] - mean_x) * (y[i] - mean_y) for i in range(n)) / (n - 1)\n",
        "    return cov\n",
        "\n",
        "manual_cov = calculate_covariance(x, y)\n",
        "print(\"Manual Covariance:\", manual_cov)\n",
        "\n",
        "# --- Method 2: Using NumPy ---\n",
        "np_cov = np.cov(x, y, ddof=1)[0][1]\n",
        "print(\"NumPy Covariance:\", np_cov)\n",
        "\n",
        "# --- Method 3: Using Pandas ---\n",
        "df = pd.DataFrame({'X': x, 'Y': y})\n",
        "pandas_cov = df.cov().iloc[0, 1]\n",
        "print(\"Pandas Covariance:\", pandas_cov)"
      ],
      "metadata": {
        "colab": {
          "base_uri": "https://localhost:8080/"
        },
        "id": "OYbExfp30g1h",
        "outputId": "ea65032f-020e-4ee9-ef99-45f6140c025d"
      },
      "execution_count": 16,
      "outputs": [
        {
          "output_type": "stream",
          "name": "stdout",
          "text": [
            "Manual Covariance: 7.0\n",
            "NumPy Covariance: 7.0\n",
            "Pandas Covariance: 7.0\n"
          ]
        }
      ]
    },
    {
      "cell_type": "code",
      "source": [
        "Q.10) Write a Python script to calculate the correlation coefficient between two datasets."
      ],
      "metadata": {
        "id": "27XPrN6RZFpo"
      },
      "execution_count": null,
      "outputs": []
    },
    {
      "cell_type": "code",
      "source": [
        "✅ Python Script: Calculate Pearson Correlation Coefficient\n",
        "\n",
        "\n",
        "# Sample datasets\n",
        "x = [10, 20, 30, 40, 50]\n",
        "y = [15, 25, 35, 45, 55]\n",
        "\n",
        "# --- Method 1: Manual Calculation ---\n",
        "def pearson_corr_manual(x, y):\n",
        "    n = len(x)\n",
        "    mean_x = sum(x) / n\n",
        "    mean_y = sum(y) / n\n",
        "    numerator = sum((x[i] - mean_x) * (y[i] - mean_y) for i in range(n))\n",
        "    denominator = (\n",
        "        sum((x[i] - mean_x) ** 2 for i in range(n)) *\n",
        "        sum((y[i] - mean_y) ** 2 for i in range(n))\n",
        "    ) ** 0.5\n",
        "    return numerator / denominator\n",
        "\n",
        "# Manual\n",
        "manual_result = pearson_corr_manual(x, y)\n",
        "print(\"Manual Pearson Correlation:\", manual_result)\n",
        "\n",
        "# --- Method 2: NumPy ---\n",
        "numpy_result = np.corrcoef(x, y)[0, 1]\n",
        "print(\"NumPy Pearson Correlation:\", numpy_result)\n",
        "\n",
        "# --- Method 3: Pandas ---\n",
        "df = pd.DataFrame({'x': x, 'y': y})\n",
        "pandas_result = df.corr().iloc[0, 1]\n",
        "print(\"Pandas Pearson Correlation:\", pandas_result)\n",
        "\n",
        "# --- Method 4: SciPy ---\n",
        "scipy_result, _ = pearsonr(x, y)\n",
        "print(\"SciPy Pearson Correlation:\", scipy_result)"
      ],
      "metadata": {
        "colab": {
          "base_uri": "https://localhost:8080/"
        },
        "id": "2W6oFr2v02P7",
        "outputId": "d7bb1cb3-d89c-4b7b-f05d-2e50dba8fa1c"
      },
      "execution_count": 17,
      "outputs": [
        {
          "output_type": "stream",
          "name": "stdout",
          "text": [
            "Manual Pearson Correlation: 1.0\n",
            "NumPy Pearson Correlation: 1.0\n",
            "Pandas Pearson Correlation: 1.0\n",
            "SciPy Pearson Correlation: 0.9999999999999998\n"
          ]
        }
      ]
    },
    {
      "cell_type": "code",
      "source": [
        "Q.11) Create a scatter plot to visualize the relationship between two variables."
      ],
      "metadata": {
        "id": "H3r_rKK5ZFnB"
      },
      "execution_count": null,
      "outputs": []
    },
    {
      "cell_type": "code",
      "source": [
        "✅ Python Script: Scatter Plot of Two Variables\n",
        "\n",
        "\n",
        "\n",
        "# Sample data\n",
        "data = {\n",
        "    'Study_Hours': [1, 2, 3, 4, 5, 6, 7, 8, 9, 10],\n",
        "    'Scores': [40, 45, 50, 55, 60, 65, 70, 75, 78, 80]\n",
        "}\n",
        "\n",
        "# Create DataFrame\n",
        "df = pd.DataFrame(data)\n",
        "\n",
        "# Plot using Seaborn\n",
        "plt.figure(figsize=(8, 5))\n",
        "sns.scatterplot(data=df, x='Study_Hours', y='Scores', color='blue', s=80)\n",
        "\n",
        "# Add labels and title\n",
        "plt.title('Scatter Plot: Study Hours vs Scores')\n",
        "plt.xlabel('Study Hours')\n",
        "plt.ylabel('Scores')\n",
        "plt.grid(True)\n",
        "plt.tight_layout()\n",
        "plt.show()"
      ],
      "metadata": {
        "colab": {
          "base_uri": "https://localhost:8080/",
          "height": 507
        },
        "id": "7RRSXAJO1MmZ",
        "outputId": "66f7e68a-8b37-417a-f2d3-6e31d4b4147c"
      },
      "execution_count": 18,
      "outputs": [
        {
          "output_type": "display_data",
          "data": {
            "text/plain": [
              "<Figure size 800x500 with 1 Axes>"
            ],
            "image/png": "[encoded data removed]"
          },
          "metadata": {}
        }
      ]
    },
    {
      "cell_type": "code",
      "source": [
        "Q.12) Implement and compare simple random sampling and systematic sampling."
      ],
      "metadata": {
        "id": "0adrL4kwZFkW"
      },
      "execution_count": null,
      "outputs": []
    },
    {
      "cell_type": "code",
      "source": [
        "\n",
        "✅ Step-by-Step Implementation\n",
        "\n",
        "\n",
        "# Sample dataset\n",
        "data = {'ID': range(1, 21), 'Score': np.random.randint(50, 100, size=20)}\n",
        "df = pd.DataFrame(data)\n",
        "print(\"Original Dataset:\")\n",
        "print(df)\n",
        "\n",
        "# --- Simple Random Sampling ---\n",
        "def simple_random_sampling(df, sample_size, seed=None):\n",
        "    return df.sample(n=sample_size, random_state=seed)\n",
        "\n",
        "# --- Systematic Sampling ---\n",
        "def systematic_sampling(df, sample_size):\n",
        "    step = len(df) // sample_size\n",
        "    indices = np.arange(0, len(df), step)[:sample_size]\n",
        "    return df.iloc[indices]\n",
        "\n",
        "# Sample size\n",
        "sample_size = 5\n",
        "\n",
        "# Apply both methods\n",
        "random_sample = simple_random_sampling(df, sample_size, seed=42)\n",
        "systematic_sample = systematic_sampling(df, sample_size)\n",
        "\n",
        "# Display results\n",
        "print(\"\\nSimple Random Sample:\")\n",
        "print(random_sample.sort_values(by='ID'))\n",
        "\n",
        "print(\"\\nSystematic Sample:\")\n",
        "print(systematic_sample.sort_values(by='ID'))"
      ],
      "metadata": {
        "colab": {
          "base_uri": "https://localhost:8080/"
        },
        "id": "cn-hG5Mp1gXW",
        "outputId": "6c0edcce-6d3e-414d-856e-2bc4ba039fe3"
      },
      "execution_count": 19,
      "outputs": [
        {
          "output_type": "stream",
          "name": "stdout",
          "text": [
            "Original Dataset:\n",
            "    ID  Score\n",
            "0    1     77\n",
            "1    2     56\n",
            "2    3     84\n",
            "3    4     77\n",
            "4    5     63\n",
            "5    6     59\n",
            "6    7     65\n",
            "7    8     65\n",
            "8    9     80\n",
            "9   10     91\n",
            "10  11     74\n",
            "11  12     62\n",
            "12  13     55\n",
            "13  14     93\n",
            "14  15     58\n",
            "15  16     94\n",
            "16  17     85\n",
            "17  18     92\n",
            "18  19     69\n",
            "19  20     67\n",
            "\n",
            "Simple Random Sample:\n",
            "    ID  Score\n",
            "0    1     77\n",
            "1    2     56\n",
            "8    9     80\n",
            "15  16     94\n",
            "17  18     92\n",
            "\n",
            "Systematic Sample:\n",
            "    ID  Score\n",
            "0    1     77\n",
            "4    5     63\n",
            "8    9     80\n",
            "12  13     55\n",
            "16  17     85\n"
          ]
        }
      ]
    },
    {
      "cell_type": "code",
      "source": [
        "Q.13) Calculate the mean, median, and mode of grouped data."
      ],
      "metadata": {
        "id": "ALAGjRCkZFhu"
      },
      "execution_count": null,
      "outputs": []
    },
    {
      "cell_type": "code",
      "source": [
        "✅ Python Implementation: Calculate Mean, Median, and Mode of Grouped Data\n",
        "\n",
        "\n",
        "import pandas as pd\n",
        "\n",
        "# Define grouped data\n",
        "class_intervals = [(0, 10), (10, 20), (20, 30), (30, 40), (40, 50)]\n",
        "frequencies = [5, 8, 15, 16, 6]\n",
        "\n",
        "# Convert to DataFrame\n",
        "df = pd.DataFrame(class_intervals, columns=['Lower', 'Upper'])\n",
        "df['Frequency'] = frequencies\n",
        "\n",
        "# Step 1: Calculate Class Midpoints\n",
        "df['Midpoint'] = (df['Lower'] + df['Upper']) / 2\n",
        "\n",
        "# Step 2: Calculate Mean\n",
        "df['f*x'] = df['Frequency'] * df['Midpoint']\n",
        "mean = df['f*x'].sum() / df['Frequency'].sum()\n",
        "\n",
        "# Step 3: Calculate Cumulative Frequency\n",
        "df['Cumulative_Freq'] = df['Frequency'].cumsum()\n",
        "\n",
        "# Step 4: Median\n",
        "n = df['Frequency'].sum()\n",
        "median_class_index = df[df['Cumulative_Freq'] >= n/2].index[0]\n",
        "\n",
        "L = df.loc[median_class_index, 'Lower']\n",
        "F = df.loc[median_class_index, 'Frequency']\n",
        "CF = df.loc[median_class_index - 1, 'Cumulative_Freq'] if median_class_index != 0 else 0\n",
        "h = df.loc[median_class_index, 'Upper'] - df.loc[median_class_index, 'Lower']\n",
        "median = L + ((n/2 - CF) / F) * h\n",
        "\n",
        "# Step 5: Mode\n",
        "modal_class_index = df['Frequency'].idxmax()\n",
        "L_modal = df.loc[modal_class_index, 'Lower']\n",
        "f1 = df.loc[modal_class_index, 'Frequency']\n",
        "f0 = df.loc[modal_class_index - 1, 'Frequency'] if modal_class_index > 0 else 0\n",
        "f2 = df.loc[modal_class_index + 1, 'Frequency'] if modal_class_index < len(df) - 1 else 0\n",
        "h_modal = df.loc[modal_class_index, 'Upper'] - df.loc[modal_class_index, 'Lower']\n",
        "mode = L_modal + ((f1 - f0) / ((2 * f1) - f0 - f2)) * h_modal\n",
        "\n",
        "# Output results\n",
        "print(\"Grouped Data:\\n\", df[['Lower', 'Upper', 'Frequency', 'Midpoint']])\n",
        "print(f\"\\nMean: {mean:.2f}\")\n",
        "print(f\"Median: {median:.2f}\")\n",
        "print(f\"Mode: {mode:.2f}\")"
      ],
      "metadata": {
        "colab": {
          "base_uri": "https://localhost:8080/"
        },
        "id": "q7d2tv-I1xv7",
        "outputId": "65149424-dd13-48fa-ed1d-d4f5d6cefe1d"
      },
      "execution_count": 20,
      "outputs": [
        {
          "output_type": "stream",
          "name": "stdout",
          "text": [
            "Grouped Data:\n",
            "    Lower  Upper  Frequency  Midpoint\n",
            "0      0     10          5       5.0\n",
            "1     10     20          8      15.0\n",
            "2     20     30         15      25.0\n",
            "3     30     40         16      35.0\n",
            "4     40     50          6      45.0\n",
            "\n",
            "Mean: 27.00\n",
            "Median: 28.00\n",
            "Mode: 30.91\n"
          ]
        }
      ]
    },
    {
      "cell_type": "code",
      "source": [
        "Q.14) Simulate data using Python and calculate its central tendency and dispersion."
      ],
      "metadata": {
        "id": "IkK3bG7PZFe2"
      },
      "execution_count": null,
      "outputs": []
    },
    {
      "cell_type": "code",
      "source": [
        "DATA SIMULATION\n",
        "\n",
        "\n",
        "# Simulate 100 data points from a normal distribution\n",
        "# with a mean of 50 and a standard deviation of 10\n",
        "simulated_data = np.random.normal(loc=50, scale=10, size=100)\n",
        "print(\"Simulated Data (first 10 elements):\")\n",
        "print(simulated_data[:10])"
      ],
      "metadata": {
        "colab": {
          "base_uri": "https://localhost:8080/"
        },
        "id": "v35ny-uE2PBX",
        "outputId": "c1f9b262-a128-4ead-d8be-94f400c9d093"
      },
      "execution_count": 21,
      "outputs": [
        {
          "output_type": "stream",
          "name": "stdout",
          "text": [
            "Simulated Data (first 10 elements):\n",
            "[25.7575974  58.84045396 57.36843897 47.18672443 50.66990717 55.15939218\n",
            " 34.37454143 44.70947323 57.9426468  37.45710577]\n"
          ]
        }
      ]
    },
    {
      "cell_type": "code",
      "source": [
        "MEASURES OF CENTRAL TENDENCY\n",
        "\n",
        "\n",
        "# Calculate the mean\n",
        "mean_value = np.mean(simulated_data)\n",
        "\n",
        "# Calculate the median\n",
        "median_value = np.median(simulated_data)\n",
        "\n",
        "# Calculate the mode (returns mode and count)\n",
        "mode_result = stats.mode(simulated_data)\n",
        "# Access the actual mode value - adjusted for newer scipy versions\n",
        "mode_value = mode_result.mode\n",
        "\n",
        "print(\"\\nMeasures of Central Tendency:\")\n",
        "print(f\"Mean: {mean_value:.2f}\")\n",
        "print(f\"Median: {median_value:.2f}\")\n",
        "print(f\"Mode: {mode_value:.2f}\")"
      ],
      "metadata": {
        "colab": {
          "base_uri": "https://localhost:8080/"
        },
        "id": "p-9N_DPF2TCJ",
        "outputId": "1f781e8d-3a37-408f-e15d-de2b7cd278e8"
      },
      "execution_count": 23,
      "outputs": [
        {
          "output_type": "stream",
          "name": "stdout",
          "text": [
            "\n",
            "Measures of Central Tendency:\n",
            "Mean: 50.60\n",
            "Median: 50.67\n",
            "Mode: 20.79\n"
          ]
        }
      ]
    },
    {
      "cell_type": "code",
      "source": [
        "MEASURES OF Dispersion\n",
        "\n",
        "# Calculate the variance\n",
        "variance_value = np.var(simulated_data)\n",
        "\n",
        "# Calculate the standard deviation\n",
        "std_dev_value = np.std(simulated_data)\n",
        "\n",
        "# Calculate the range\n",
        "data_range = np.max(simulated_data) - np.min(simulated_data)\n",
        "\n",
        "print(\"\\nMeasures of Dispersion:\")\n",
        "print(f\"Variance: {variance_value:.2f}\")\n",
        "print(f\"Standard Deviation: {std_dev_value:.2f}\")\n",
        "print(f\"Range: {data_range:.2f}\")"
      ],
      "metadata": {
        "colab": {
          "base_uri": "https://localhost:8080/"
        },
        "id": "UI-qzCPc2ZYd",
        "outputId": "98596646-797f-40ef-e7c6-f0abb2655d7e"
      },
      "execution_count": 24,
      "outputs": [
        {
          "output_type": "stream",
          "name": "stdout",
          "text": [
            "\n",
            "Measures of Dispersion:\n",
            "Variance: 107.51\n",
            "Standard Deviation: 10.37\n",
            "Range: 61.14\n"
          ]
        }
      ]
    },
    {
      "cell_type": "code",
      "source": [
        "Q.15) Use NumPy or pandas to summarize a dataset's descriptive statistics."
      ],
      "metadata": {
        "id": "Qcto3_jLZFcN"
      },
      "execution_count": null,
      "outputs": []
    },
    {
      "cell_type": "code",
      "source": [
        "✅ Using pandas:\n",
        "\n",
        "\n",
        "# Sample dataset\n",
        "data = {\n",
        "    'Age': [25, 30, 22, 35, 28, 40],\n",
        "    'Salary': [40000, 50000, 35000, 60000, 45000, 70000]\n",
        "}\n",
        "\n",
        "df = pd.DataFrame(data)\n",
        "\n",
        "# Descriptive statistics summary\n",
        "print(df.describe())"
      ],
      "metadata": {
        "colab": {
          "base_uri": "https://localhost:8080/"
        },
        "id": "rjW2Bppz25mJ",
        "outputId": "a65255a5-203e-4ee0-9154-ab6785dfd1c2"
      },
      "execution_count": 25,
      "outputs": [
        {
          "output_type": "stream",
          "name": "stdout",
          "text": [
            "            Age       Salary\n",
            "count   6.00000      6.00000\n",
            "mean   30.00000  50000.00000\n",
            "std     6.60303  13038.40481\n",
            "min    22.00000  35000.00000\n",
            "25%    25.75000  41250.00000\n",
            "50%    29.00000  47500.00000\n",
            "75%    33.75000  57500.00000\n",
            "max    40.00000  70000.00000\n"
          ]
        }
      ]
    },
    {
      "cell_type": "code",
      "source": [
        "✅ Using NumPy:\n",
        "\n",
        "\n",
        "# Sample dataset\n",
        "age = np.array([25, 30, 22, 35, 28, 40])\n",
        "salary = np.array([40000, 50000, 35000, 60000, 45000, 70000])\n",
        "\n",
        "# Summary statistics\n",
        "print(\"Age:\")\n",
        "print(\"Mean:\", np.mean(age))\n",
        "print(\"Median:\", np.median(age))\n",
        "print(\"Std Dev:\", np.std(age))\n",
        "print(\"Min:\", np.min(age))\n",
        "print(\"Max:\", np.max(age))\n",
        "\n",
        "print(\"\\nSalary:\")\n",
        "print(\"Mean:\", np.mean(salary))\n",
        "print(\"Median:\", np.median(salary))\n",
        "print(\"Std Dev:\", np.std(salary))\n",
        "print(\"Min:\", np.min(salary))\n",
        "print(\"Max:\", np.max(salary))"
      ],
      "metadata": {
        "colab": {
          "base_uri": "https://localhost:8080/"
        },
        "id": "cz1YriP73CLL",
        "outputId": "670fdbb4-f682-4737-82b3-d4bc6ff30f33"
      },
      "execution_count": 26,
      "outputs": [
        {
          "output_type": "stream",
          "name": "stdout",
          "text": [
            "Age:\n",
            "Mean: 30.0\n",
            "Median: 29.0\n",
            "Std Dev: 6.027713773341708\n",
            "Min: 22\n",
            "Max: 40\n",
            "\n",
            "Salary:\n",
            "Mean: 50000.0\n",
            "Median: 47500.0\n",
            "Std Dev: 11902.380714238083\n",
            "Min: 35000\n",
            "Max: 70000\n"
          ]
        }
      ]
    },
    {
      "cell_type": "code",
      "source": [
        "Q.16) Plot a boxplot to understand spread and identify outliers."
      ],
      "metadata": {
        "id": "6V1wISMIZFZF"
      },
      "execution_count": null,
      "outputs": []
    },
    {
      "cell_type": "code",
      "source": [
        "✅ Using pandas + matplotlib:\n",
        "\n",
        "\n",
        "# Sample dataset\n",
        "data = {\n",
        "    'Age': [25, 30, 22, 35, 28, 40, 60],  # 60 might be an outlier\n",
        "    'Salary': [40000, 50000, 35000, 60000, 45000, 70000, 150000]  # 150000 is a clear outlier\n",
        "}\n",
        "\n",
        "df = pd.DataFrame(data)\n",
        "\n",
        "# Plot boxplot\n",
        "df.boxplot(column=['Age', 'Salary'])\n",
        "plt.title(\"Boxplot of Age and Salary\")\n",
        "plt.ylabel(\"Values\")\n",
        "plt.show()"
      ],
      "metadata": {
        "colab": {
          "base_uri": "https://localhost:8080/",
          "height": 452
        },
        "id": "ehlgGyco3OBR",
        "outputId": "1871506b-e82c-41cb-a92e-09adfbab6016"
      },
      "execution_count": 27,
      "outputs": [
        {
          "output_type": "display_data",
          "data": {
            "text/plain": [
              "<Figure size 640x480 with 1 Axes>"
            ],
            "image/png": "[encoded data removed]"
          },
          "metadata": {}
        }
      ]
    },
    {
      "cell_type": "code",
      "source": [
        "✅ Optional: Using Seaborn for better aesthetics\n",
        "\n",
        "# Long-form for seaborn boxplot\n",
        "df_melted = df.melt(var_name='Category', value_name='Value')\n",
        "\n",
        "sns.boxplot(x='Category', y='Value', data=df_melted)\n",
        "plt.title(\"Boxplot of Age and Salary\")\n",
        "plt.show()"
      ],
      "metadata": {
        "colab": {
          "base_uri": "https://localhost:8080/",
          "height": 472
        },
        "id": "9lJxRE2C3SGA",
        "outputId": "ee2d9311-d69d-4780-f34f-9ec2e92bb772"
      },
      "execution_count": 28,
      "outputs": [
        {
          "output_type": "display_data",
          "data": {
            "text/plain": [
              "<Figure size 640x480 with 1 Axes>"
            ],
            "image/png": "[encoded data removed]"
          },
          "metadata": {}
        }
      ]
    },
    {
      "cell_type": "code",
      "source": [
        "Q.17) Calculate the interquartile range (IQR) of a dataset."
      ],
      "metadata": {
        "id": "xdGaa6jDZg40"
      },
      "execution_count": null,
      "outputs": []
    },
    {
      "cell_type": "markdown",
      "source": [
        "To calculate the Interquartile Range (IQR) of a dataset, you subtract the first quartile (Q1) from the third quartile (Q3):\n",
        "\n",
        "IQR\n",
        "=\n",
        "𝑄\n",
        "3\n",
        "−\n",
        "𝑄\n",
        "1\n",
        "IQR=Q3−Q1\n",
        "\n",
        "You can do this easily using NumPy or pandas."
      ],
      "metadata": {
        "id": "5iuOsZ5f3ksZ"
      }
    },
    {
      "cell_type": "code",
      "source": [
        "✅ Using NumPy:\n",
        "\n",
        "# Example dataset\n",
        "data = [25, 30, 22, 35, 28, 40, 60]\n",
        "\n",
        "# Calculate Q1 and Q3\n",
        "Q1 = np.percentile(data, 25)\n",
        "Q3 = np.percentile(data, 75)\n",
        "IQR = Q3 - Q1\n",
        "\n",
        "print(\"Q1:\", Q1)\n",
        "print(\"Q3:\", Q3)\n",
        "print(\"IQR:\", IQR)"
      ],
      "metadata": {
        "colab": {
          "base_uri": "https://localhost:8080/"
        },
        "id": "q4Dhf_po3nTb",
        "outputId": "8cfa0b8d-c232-4f58-9740-6903a56b20f8"
      },
      "execution_count": 29,
      "outputs": [
        {
          "output_type": "stream",
          "name": "stdout",
          "text": [
            "Q1: 26.5\n",
            "Q3: 37.5\n",
            "IQR: 11.0\n"
          ]
        }
      ]
    },
    {
      "cell_type": "code",
      "source": [
        "✅ Using pandas:\n",
        "\n",
        "# Example dataset\n",
        "df = pd.DataFrame({'Age': [25, 30, 22, 35, 28, 40, 60]})\n",
        "\n",
        "# Calculate IQR\n",
        "Q1 = df['Age'].quantile(0.25)\n",
        "Q3 = df['Age'].quantile(0.75)\n",
        "IQR = Q3 - Q1\n",
        "\n",
        "print(\"Q1:\", Q1)\n",
        "print(\"Q3:\", Q3)\n",
        "print(\"IQR:\", IQR)"
      ],
      "metadata": {
        "colab": {
          "base_uri": "https://localhost:8080/"
        },
        "id": "wQIZSAhF3wkr",
        "outputId": "022ca853-2f0d-484d-a84f-4eb7ef5b15e7"
      },
      "execution_count": 30,
      "outputs": [
        {
          "output_type": "stream",
          "name": "stdout",
          "text": [
            "Q1: 26.5\n",
            "Q3: 37.5\n",
            "IQR: 11.0\n"
          ]
        }
      ]
    },
    {
      "cell_type": "code",
      "source": [
        "Q.18) Implement Z-score normalization and explain its significance."
      ],
      "metadata": {
        "id": "4H5t0UDsZg2N"
      },
      "execution_count": null,
      "outputs": []
    },
    {
      "cell_type": "markdown",
      "source": [
        "✅ Z-score Normalization (Standardization)\n",
        "Z-score normalization transforms your data so that it has:\n",
        "\n",
        "Mean = 0\n",
        "\n",
        "Standard Deviation = 1\n",
        "\n",
        "Each value is transformed using:\n",
        "\n",
        "𝑧\n",
        "=\n",
        "𝑥\n",
        "−\n",
        "𝜇\n",
        "𝜎\n",
        "z=\n",
        "σ\n",
        "x−μ\n",
        "​\n",
        "\n",
        "Where:\n",
        "\n",
        "𝑥\n",
        "x = original value\n",
        "\n",
        "𝜇\n",
        "μ = mean of the feature\n",
        "\n",
        "𝜎\n",
        "σ = standard deviation of the feature\n",
        "\n",
        "✅ Why is Z-score normalization important?\n",
        "It standardizes features on the same scale, useful for:\n",
        "\n",
        "Machine Learning algorithms (e.g., KNN, SVM, PCA)\n",
        "\n",
        "Detecting outliers (values with |z| > 3 are often considered outliers)\n",
        "\n",
        "It helps speed up convergence in gradient-based optimizers.\n",
        "\n"
      ],
      "metadata": {
        "id": "jQNQ2EMB4DoO"
      }
    },
    {
      "cell_type": "code",
      "source": [
        "Python Implementation using NumPy:\n",
        "\n",
        "\n",
        "# Sample data\n",
        "data = np.array([25, 30, 22, 35, 28, 40, 60])\n",
        "\n",
        "# Compute mean and standard deviation\n",
        "mean = np.mean(data)\n",
        "std = np.std(data)\n",
        "\n",
        "# Z-score normalization\n",
        "z_scores = (data - mean) / std\n",
        "\n",
        "print(\"Original Data:\", data)\n",
        "print(\"Z-scores:\", z_scores)"
      ],
      "metadata": {
        "colab": {
          "base_uri": "https://localhost:8080/"
        },
        "id": "QRApsRNb4FNO",
        "outputId": "48ae540a-e699-4fe8-8bb8-f0214cfc6f8f"
      },
      "execution_count": 32,
      "outputs": [
        {
          "output_type": "stream",
          "name": "stdout",
          "text": [
            "Original Data: [25 30 22 35 28 40 60]\n",
            "Z-scores: [-0.78103791 -0.36047903 -1.03337323  0.06007984 -0.52870258  0.48063871\n",
            "  2.16287421]\n"
          ]
        }
      ]
    },
    {
      "cell_type": "code",
      "source": [
        "✅ Using pandas:\n",
        "\n",
        "\n",
        "# Sample DataFrame\n",
        "df = pd.DataFrame({'Age': [25, 30, 22, 35, 28, 40, 60]})\n",
        "\n",
        "# Z-score normalization\n",
        "df['Z_Age'] = (df['Age'] - df['Age'].mean()) / df['Age'].std()\n",
        "\n",
        "print(df)"
      ],
      "metadata": {
        "colab": {
          "base_uri": "https://localhost:8080/"
        },
        "id": "qMAJXD6A4RlD",
        "outputId": "ff441967-2f99-46ba-ee54-af51ef618297"
      },
      "execution_count": 33,
      "outputs": [
        {
          "output_type": "stream",
          "name": "stdout",
          "text": [
            "   Age     Z_Age\n",
            "0   25 -0.723101\n",
            "1   30 -0.333739\n",
            "2   22 -0.956718\n",
            "3   35  0.055623\n",
            "4   28 -0.489483\n",
            "5   40  0.444985\n",
            "6   60  2.002432\n"
          ]
        }
      ]
    },
    {
      "cell_type": "code",
      "source": [
        "Q.19) Compare two datasets using their standard deviations."
      ],
      "metadata": {
        "id": "Xnb7CmmwZgzL"
      },
      "execution_count": null,
      "outputs": []
    },
    {
      "cell_type": "markdown",
      "source": [
        "✅ Comparing Two Datasets Using Standard Deviation\n",
        "Standard deviation (SD) measures the spread or dispersion of a dataset around the mean:\n",
        "\n",
        "Low SD → values are tightly clustered around the mean\n",
        "\n",
        "High SD → values are more spread out\n",
        "\n"
      ],
      "metadata": {
        "id": "Of_hHK6-4gXg"
      }
    },
    {
      "cell_type": "code",
      "source": [
        "Python Example (using NumPy):\n",
        "\n",
        "\n",
        "# Dataset A: ages in a classroom\n",
        "data_A = np.array([25, 26, 24, 27, 25, 26, 24])\n",
        "\n",
        "# Dataset B: ages in a company\n",
        "data_B = np.array([22, 30, 35, 28, 40, 25, 60])\n",
        "\n",
        "# Calculate standard deviations\n",
        "std_A = np.std(data_A)\n",
        "std_B = np.std(data_B)\n",
        "\n",
        "print(\"Standard Deviation of Dataset A:\", std_A)\n",
        "print(\"Standard Deviation of Dataset B:\", std_B)"
      ],
      "metadata": {
        "colab": {
          "base_uri": "https://localhost:8080/"
        },
        "id": "Ny1VsJFa4hb-",
        "outputId": "0e8a9ee8-5528-4c0e-b134-1bf68553a414"
      },
      "execution_count": 34,
      "outputs": [
        {
          "output_type": "stream",
          "name": "stdout",
          "text": [
            "Standard Deviation of Dataset A: 1.0301575072754254\n",
            "Standard Deviation of Dataset B: 11.888941869464675\n"
          ]
        }
      ]
    },
    {
      "cell_type": "code",
      "source": [
        "Q.20) Write a Python program to visualize covariance using a heatmap."
      ],
      "metadata": {
        "id": "Qv9Pm2eZZgwk"
      },
      "execution_count": null,
      "outputs": []
    },
    {
      "cell_type": "code",
      "source": [
        "✅ Program: Visualize Covariance with Heatmap\n",
        "\n",
        "\n",
        "# Sample dataset\n",
        "data = {\n",
        "    'Math': [85, 90, 78, 92, 88],\n",
        "    'Physics': [80, 85, 75, 89, 84],\n",
        "    'Chemistry': [78, 83, 72, 88, 80]\n",
        "}\n",
        "\n",
        "df = pd.DataFrame(data)\n",
        "\n",
        "# Calculate covariance matrix\n",
        "cov_matrix = df.cov()\n",
        "\n",
        "print(\"Covariance Matrix:\")\n",
        "print(cov_matrix)\n",
        "\n",
        "# Plot heatmap\n",
        "plt.figure(figsize=(8, 6))\n",
        "sns.heatmap(cov_matrix, annot=True, cmap='coolwarm', fmt=\".2f\")\n",
        "plt.title('Covariance Heatmap')\n",
        "plt.show()"
      ],
      "metadata": {
        "colab": {
          "base_uri": "https://localhost:8080/",
          "height": 632
        },
        "id": "CL386JWh4ypa",
        "outputId": "d9cfce42-75e5-4839-c9b5-2d07af4294a9"
      },
      "execution_count": 35,
      "outputs": [
        {
          "output_type": "stream",
          "name": "stdout",
          "text": [
            "Covariance Matrix:\n",
            "            Math  Physics  Chemistry\n",
            "Math       29.80    28.55      31.35\n",
            "Physics    28.55    28.30      31.10\n",
            "Chemistry  31.35    31.10      35.20\n"
          ]
        },
        {
          "output_type": "display_data",
          "data": {
            "text/plain": [
              "<Figure size 800x600 with 2 Axes>"
            ],
            "image/png": "[encoded data removed]"
          },
          "metadata": {}
        }
      ]
    },
    {
      "cell_type": "code",
      "source": [
        "Q.21) Use seaborn to create a correlation matrix for a dataset."
      ],
      "metadata": {
        "id": "GDQpDv1jZgt7"
      },
      "execution_count": null,
      "outputs": []
    },
    {
      "cell_type": "code",
      "source": [
        "✅ Python Program: Correlation Matrix with Heatmap\n",
        "\n",
        "\n",
        "# Sample dataset\n",
        "data = {\n",
        "    'Math': [85, 90, 78, 92, 88],\n",
        "    'Physics': [80, 85, 75, 89, 84],\n",
        "    'Chemistry': [78, 83, 72, 88, 80]\n",
        "}\n",
        "\n",
        "df = pd.DataFrame(data)\n",
        "\n",
        "# Compute correlation matrix\n",
        "corr_matrix = df.corr()\n",
        "\n",
        "print(\"Correlation Matrix:\")\n",
        "print(corr_matrix)\n",
        "\n",
        "# Plot heatmap\n",
        "plt.figure(figsize=(8, 6))\n",
        "sns.heatmap(corr_matrix, annot=True, cmap='coolwarm', fmt=\".2f\", linewidths=0.5)\n",
        "plt.title('Correlation Matrix Heatmap')\n",
        "plt.show()"
      ],
      "metadata": {
        "colab": {
          "base_uri": "https://localhost:8080/",
          "height": 632
        },
        "id": "sjhDiMZD5BuP",
        "outputId": "90d17602-c899-46da-ee8c-ab5397600f32"
      },
      "execution_count": 36,
      "outputs": [
        {
          "output_type": "stream",
          "name": "stdout",
          "text": [
            "Correlation Matrix:\n",
            "               Math   Physics  Chemistry\n",
            "Math       1.000000  0.983116   0.967961\n",
            "Physics    0.983116  1.000000   0.985362\n",
            "Chemistry  0.967961  0.985362   1.000000\n"
          ]
        },
        {
          "output_type": "display_data",
          "data": {
            "text/plain": [
              "<Figure size 800x600 with 2 Axes>"
            ],
            "image/png": "[encoded data removed]"
          },
          "metadata": {}
        }
      ]
    },
    {
      "cell_type": "code",
      "source": [
        "Q.22) Generate a dataset and implement both variance and standard deviation computations."
      ],
      "metadata": {
        "id": "oNkCArkwZgrN"
      },
      "execution_count": null,
      "outputs": []
    },
    {
      "cell_type": "code",
      "source": [
        "import numpy as np\n",
        "import pandas as pd\n",
        "\n",
        "# 1. Generate synthetic dataset (e.g., test scores)\n",
        "np.random.seed(0)\n",
        "scores = np.random.randint(50, 100, size=10)  # 10 random scores between 50 and 100\n",
        "\n",
        "# Convert to pandas DataFrame\n",
        "df = pd.DataFrame({'Scores': scores})\n",
        "\n",
        "print(\"Dataset:\\n\", df)\n",
        "\n",
        "# 2. Variance and Standard Deviation using NumPy\n",
        "variance_np = np.var(scores, ddof=0)  # population variance\n",
        "std_dev_np = np.std(scores, ddof=0)   # population std deviation\n",
        "\n",
        "# 3. Variance and Standard Deviation using pandas\n",
        "variance_pd = df['Scores'].var(ddof=0)  # by default, pandas uses ddof=1 (sample)\n",
        "std_dev_pd = df['Scores'].std(ddof=0)\n",
        "\n",
        "# 4. Output\n",
        "print(\"\\nUsing NumPy:\")\n",
        "print(\"Variance:\", variance_np)\n",
        "print(\"Standard Deviation:\", std_dev_np)\n",
        "\n",
        "print(\"\\nUsing pandas:\")\n",
        "print(\"Variance:\", variance_pd)\n",
        "print(\"Standard Deviation:\", std_dev_pd)"
      ],
      "metadata": {
        "colab": {
          "base_uri": "https://localhost:8080/"
        },
        "id": "XiER9d-G5QYO",
        "outputId": "eced54fc-0174-4ec8-bd7c-65a1d177e73f"
      },
      "execution_count": 37,
      "outputs": [
        {
          "output_type": "stream",
          "name": "stdout",
          "text": [
            "Dataset:\n",
            "    Scores\n",
            "0      94\n",
            "1      97\n",
            "2      50\n",
            "3      53\n",
            "4      53\n",
            "5      89\n",
            "6      59\n",
            "7      69\n",
            "8      71\n",
            "9      86\n",
            "\n",
            "Using NumPy:\n",
            "Variance: 297.89\n",
            "Standard Deviation: 17.259490143106778\n",
            "\n",
            "Using pandas:\n",
            "Variance: 297.89\n",
            "Standard Deviation: 17.259490143106778\n"
          ]
        }
      ]
    },
    {
      "cell_type": "code",
      "source": [
        "Q.23) Visualize skewness and kurtosis using Python libraries like matplotlib or seaborn."
      ],
      "metadata": {
        "id": "G2X6BfB-Zgn5"
      },
      "execution_count": null,
      "outputs": []
    },
    {
      "cell_type": "code",
      "source": [
        "✅ Full Program: Visualize Skewness & Kurtosis\n",
        "\n",
        "\n",
        "# 1. Generate synthetic data (right-skewed)\n",
        "np.random.seed(1)\n",
        "data = np.random.exponential(scale=2.0, size=1000)\n",
        "df = pd.DataFrame({'Value': data})\n",
        "\n",
        "# 2. Calculate skewness and kurtosis\n",
        "skewness = skew(df['Value'])\n",
        "kurt = kurtosis(df['Value'])  # excess kurtosis (0 = normal distribution)\n",
        "\n",
        "# 3. Plot histogram with KDE\n",
        "plt.figure(figsize=(10, 6))\n",
        "sns.histplot(df['Value'], bins=30, kde=True, color='skyblue', edgecolor='black')\n",
        "plt.title('Histogram with KDE\\nSkewness: {:.2f}, Kurtosis: {:.2f}'.format(skewness, kurt), fontsize=14)\n",
        "plt.xlabel('Value')\n",
        "plt.ylabel('Frequency')\n",
        "plt.axvline(df['Value'].mean(), color='red', linestyle='dashed', linewidth=1.5, label='Mean')\n",
        "plt.legend()\n",
        "plt.grid(True)\n",
        "plt.show()"
      ],
      "metadata": {
        "colab": {
          "base_uri": "https://localhost:8080/",
          "height": 587
        },
        "id": "D_YzZq-m5Z9B",
        "outputId": "f450e050-209e-4712-facb-bcef62b49321"
      },
      "execution_count": 38,
      "outputs": [
        {
          "output_type": "display_data",
          "data": {
            "text/plain": [
              "<Figure size 1000x600 with 1 Axes>"
            ],
            "image/png": "[encoded data removed]"
          },
          "metadata": {}
        }
      ]
    },
    {
      "cell_type": "code",
      "source": [
        "Q.24) Implement the Pearson and Spearman correlation coefficients for a dataset."
      ],
      "metadata": {
        "id": "uNNnXvixZgku"
      },
      "execution_count": null,
      "outputs": []
    },
    {
      "cell_type": "code",
      "source": [
        "🧪 Python Code: Pearson & Spearman Correlation\n",
        "\n",
        "\n",
        "# Sample dataset\n",
        "data = {\n",
        "    'Math': [85, 90, 78, 92, 88],\n",
        "    'Physics': [80, 85, 75, 89, 84],\n",
        "    'Chemistry': [78, 83, 72, 88, 80]\n",
        "}\n",
        "\n",
        "df = pd.DataFrame(data)\n",
        "\n",
        "# Choose two variables to compare\n",
        "x = df['Math']\n",
        "y = df['Physics']\n",
        "\n",
        "# Pearson correlation\n",
        "pearson_corr, pearson_p = pearsonr(x, y)\n",
        "\n",
        "# Spearman correlation\n",
        "spearman_corr, spearman_p = spearmanr(x, y)\n",
        "\n",
        "# Results\n",
        "print(\"Pearson Correlation Coefficient: {:.3f} (p-value = {:.3f})\".format(pearson_corr, pearson_p))\n",
        "print(\"Spearman Correlation Coefficient: {:.3f} (p-value = {:.3f})\".format(spearman_corr, spearman_p))"
      ],
      "metadata": {
        "colab": {
          "base_uri": "https://localhost:8080/"
        },
        "id": "jatZIXp45neQ",
        "outputId": "30e02864-26d1-4e07-de45-914b64b459ae"
      },
      "execution_count": 39,
      "outputs": [
        {
          "output_type": "stream",
          "name": "stdout",
          "text": [
            "Pearson Correlation Coefficient: 0.983 (p-value = 0.003)\n",
            "Spearman Correlation Coefficient: 1.000 (p-value = 0.000)\n"
          ]
        }
      ]
    }
  ]
}